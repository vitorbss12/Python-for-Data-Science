{
 "cells": [
  {
   "cell_type": "markdown",
   "metadata": {},
   "source": [
    "## Array e Listas"
   ]
  },
  {
   "cell_type": "code",
   "execution_count": 1,
   "metadata": {},
   "outputs": [
    {
     "name": "stdout",
     "output_type": "stream",
     "text": [
      "<class 'int'>\n",
      "<class 'str'>\n",
      "<class 'list'>\n",
      "22\n",
      "[22, 23]\n",
      "[23, 24, 25, 26]\n",
      "26\n"
     ]
    }
   ],
   "source": [
    "idade = 22\n",
    "\n",
    "print(type(idade))\n",
    "\n",
    "nome = \"Vitor\"\n",
    "\n",
    "print(type(nome))\n",
    "\n",
    "idades = [22, 23, 24, 25, 26]\n",
    "\n",
    "print(type(idades))\n",
    "print(idades[0])\n",
    "\n",
    "print(idades[0:2])\n",
    "print(idades[1:])\n",
    "print(idades[-1])"
   ]
  }
 ],
 "metadata": {
  "kernelspec": {
   "display_name": "Python 3.10.6 64-bit (microsoft store)",
   "language": "python",
   "name": "python3"
  },
  "language_info": {
   "codemirror_mode": {
    "name": "ipython",
    "version": 3
   },
   "file_extension": ".py",
   "mimetype": "text/x-python",
   "name": "python",
   "nbconvert_exporter": "python",
   "pygments_lexer": "ipython3",
   "version": "3.10.6"
  },
  "orig_nbformat": 4,
  "vscode": {
   "interpreter": {
    "hash": "2ec1ab3a7492c682861eb248a34c624e35e5f607dace7fc7e85d983a5f829e20"
   }
  }
 },
 "nbformat": 4,
 "nbformat_minor": 2
}
