{
 "cells": [
  {
   "cell_type": "markdown",
   "metadata": {},
   "source": [
    "## Introdução"
   ]
  },
  {
   "cell_type": "code",
   "execution_count": 1,
   "metadata": {},
   "outputs": [
    {
     "name": "stdout",
     "output_type": "stream",
     "text": [
      "Olá, meu nome é Vitor e tenho 24 anos.\n"
     ]
    }
   ],
   "source": [
    "nome = \"Vitor\"\n",
    "idade = 24\n",
    "\n",
    "# print(\"Olá, meu nome é\", nome, \"e tenho\", idade, \"anos.\")\n",
    "print(f\"Olá, meu nome é {nome} e tenho {idade} anos.\")"
   ]
  },
  {
   "cell_type": "code",
   "execution_count": 2,
   "metadata": {},
   "outputs": [
    {
     "name": "stdout",
     "output_type": "stream",
     "text": [
      "Olá, Vitor!\n"
     ]
    }
   ],
   "source": [
    "def saudacao():\n",
    "    nome_input = input(\"Qual é o seu nome? \")\n",
    "    print(f\"Olá, {nome_input}!\")\n",
    "\n",
    "saudacao()"
   ]
  },
  {
   "cell_type": "code",
   "execution_count": 3,
   "metadata": {},
   "outputs": [
    {
     "name": "stdout",
     "output_type": "stream",
     "text": [
      "Olá, Vitor Bastos!\n"
     ]
    }
   ],
   "source": [
    "def nome_completo():\n",
    "    primeiro_nome = input(\"Qual é o seu primeiro nome? \")\n",
    "    sobrenome = input(\"Qual é o seu sobrenome? \")\n",
    "    nome_inteiro = primeiro_nome + \" \" + sobrenome\n",
    "    print(f\"Olá, {nome_inteiro}!\")\n",
    "\n",
    "nome_completo()"
   ]
  },
  {
   "cell_type": "code",
   "execution_count": 4,
   "metadata": {},
   "outputs": [
    {
     "name": "stdout",
     "output_type": "stream",
     "text": [
      "Olá, Vitor!\n"
     ]
    }
   ],
   "source": [
    "def saudacao_parametro(nome):\n",
    "    print(f\"Olá, {nome}!\")\n",
    "\n",
    "saudacao_parametro(\"Vitor\")"
   ]
  }
 ],
 "metadata": {
  "kernelspec": {
   "display_name": "Python 3.10.6 64-bit (microsoft store)",
   "language": "python",
   "name": "python3"
  },
  "language_info": {
   "codemirror_mode": {
    "name": "ipython",
    "version": 3
   },
   "file_extension": ".py",
   "mimetype": "text/x-python",
   "name": "python",
   "nbconvert_exporter": "python",
   "pygments_lexer": "ipython3",
   "version": "3.10.6"
  },
  "orig_nbformat": 4,
  "vscode": {
   "interpreter": {
    "hash": "2ec1ab3a7492c682861eb248a34c624e35e5f607dace7fc7e85d983a5f829e20"
   }
  }
 },
 "nbformat": 4,
 "nbformat_minor": 2
}
