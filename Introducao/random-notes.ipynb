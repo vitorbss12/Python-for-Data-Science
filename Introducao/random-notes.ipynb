{
 "cells": [
  {
   "cell_type": "markdown",
   "metadata": {},
   "source": [
    "## Random"
   ]
  },
  {
   "cell_type": "code",
   "execution_count": 1,
   "metadata": {},
   "outputs": [],
   "source": [
    "from random import randrange\n",
    "notas = []"
   ]
  },
  {
   "cell_type": "code",
   "execution_count": 2,
   "metadata": {},
   "outputs": [
    {
     "name": "stdout",
     "output_type": "stream",
     "text": [
      "[2, 2, 9, 4, 3, 9, 6, 7]\n",
      "8\n"
     ]
    }
   ],
   "source": [
    "for i in range(8):\n",
    "    notas.append(randrange(0, 10))\n",
    "\n",
    "print(notas)\n",
    "print(len(notas))"
   ]
  }
 ],
 "metadata": {
  "kernelspec": {
   "display_name": "Python 3.10.6 64-bit (microsoft store)",
   "language": "python",
   "name": "python3"
  },
  "language_info": {
   "codemirror_mode": {
    "name": "ipython",
    "version": 3
   },
   "file_extension": ".py",
   "mimetype": "text/x-python",
   "name": "python",
   "nbconvert_exporter": "python",
   "pygments_lexer": "ipython3",
   "version": "3.10.6"
  },
  "orig_nbformat": 4,
  "vscode": {
   "interpreter": {
    "hash": "2ec1ab3a7492c682861eb248a34c624e35e5f607dace7fc7e85d983a5f829e20"
   }
  }
 },
 "nbformat": 4,
 "nbformat_minor": 2
}
