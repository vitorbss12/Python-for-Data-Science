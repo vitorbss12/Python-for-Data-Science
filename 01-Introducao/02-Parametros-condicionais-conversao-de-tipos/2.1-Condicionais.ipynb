{
 "cells": [
  {
   "cell_type": "markdown",
   "metadata": {},
   "source": [
    "## Condicionais"
   ]
  },
  {
   "cell_type": "code",
   "execution_count": 1,
   "metadata": {},
   "outputs": [
    {
     "name": "stdout",
     "output_type": "stream",
     "text": [
      "Você é maior de idade!\n"
     ]
    }
   ],
   "source": [
    "idade = 20\n",
    "\n",
    "\n",
    "def verifica_idade(idade):\n",
    "    if idade >= 18:\n",
    "        print(\"Você é maior de idade!\")\n",
    "    else:\n",
    "        print(\"Você é menor de idade!\")\n",
    "\n",
    "\n",
    "verifica_idade(idade)"
   ]
  },
  {
   "cell_type": "code",
   "execution_count": 2,
   "metadata": {},
   "outputs": [
    {
     "name": "stdout",
     "output_type": "stream",
     "text": [
      "Você é menor de idade!\n"
     ]
    }
   ],
   "source": [
    "def verifica_idade_sem_parametro():\n",
    "    idade = input(\"Digite sua idade: \")\n",
    "    idade = int(idade)\n",
    "    if idade >= 18:\n",
    "        print(\"Você é maior de idade!\")\n",
    "    else:\n",
    "        print(\"Você é menor de idade!\")\n",
    "\n",
    "\n",
    "verifica_idade_sem_parametro()"
   ]
  }
 ],
 "metadata": {
  "kernelspec": {
   "display_name": "Python 3.10.6 64-bit (microsoft store)",
   "language": "python",
   "name": "python3"
  },
  "language_info": {
   "codemirror_mode": {
    "name": "ipython",
    "version": 3
   },
   "file_extension": ".py",
   "mimetype": "text/x-python",
   "name": "python",
   "nbconvert_exporter": "python",
   "pygments_lexer": "ipython3",
   "version": "3.10.6"
  },
  "orig_nbformat": 4,
  "vscode": {
   "interpreter": {
    "hash": "2ec1ab3a7492c682861eb248a34c624e35e5f607dace7fc7e85d983a5f829e20"
   }
  }
 },
 "nbformat": 4,
 "nbformat_minor": 2
}
