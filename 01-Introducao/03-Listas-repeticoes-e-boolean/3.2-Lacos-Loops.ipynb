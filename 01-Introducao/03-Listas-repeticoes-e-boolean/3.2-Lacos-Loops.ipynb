{
 "cells": [
  {
   "cell_type": "markdown",
   "metadata": {},
   "source": [
    "## Laços e Loops"
   ]
  },
  {
   "cell_type": "code",
   "execution_count": 1,
   "metadata": {},
   "outputs": [],
   "source": [
    "idade = [10, 20, 15, 30]"
   ]
  },
  {
   "cell_type": "code",
   "execution_count": 2,
   "metadata": {},
   "outputs": [
    {
     "name": "stdout",
     "output_type": "stream",
     "text": [
      "10 - Você é menor de idade!\n",
      "20 - Você é maior de idade!\n",
      "15 - Você é menor de idade!\n",
      "30 - Você é maior de idade!\n"
     ]
    }
   ],
   "source": [
    "def verifica_idade(idade):\n",
    "    if idade >= 18:\n",
    "        print(f\"{idade} - Você é maior de idade!\")\n",
    "    else:\n",
    "        print(f\"{idade} - Você é menor de idade!\")\n",
    "\n",
    "\n",
    "for i in idade:\n",
    "    verifica_idade(i)"
   ]
  },
  {
   "cell_type": "code",
   "execution_count": 3,
   "metadata": {},
   "outputs": [
    {
     "name": "stdout",
     "output_type": "stream",
     "text": [
      "10 - Você é menor de idade!\n",
      "20 - Você é maior de idade!\n",
      "15 - Você é menor de idade!\n",
      "30 - Você é maior de idade!\n"
     ]
    }
   ],
   "source": [
    "def verifica_idade_com_for(idade):\n",
    "    for i in idade:\n",
    "        if i >= 18:\n",
    "            print(f\"{i} - Você é maior de idade!\")\n",
    "        else:\n",
    "            print(f\"{i} - Você é menor de idade!\")\n",
    "\n",
    "\n",
    "verifica_idade_com_for(idade)"
   ]
  },
  {
   "cell_type": "code",
   "execution_count": 4,
   "metadata": {},
   "outputs": [],
   "source": [
    "permissoes = []\n",
    "idades = [20, 14, 40]"
   ]
  },
  {
   "cell_type": "code",
   "execution_count": 5,
   "metadata": {},
   "outputs": [
    {
     "name": "stdout",
     "output_type": "stream",
     "text": [
      "Você é maior de idade!\n",
      "Você é menor de idade!\n",
      "Você é maior de idade!\n"
     ]
    }
   ],
   "source": [
    "def verifica_idade_boleano(permissoes, idades):\n",
    "    for i in idades:\n",
    "        if i >= 18:\n",
    "            permissoes.append(True)\n",
    "        else:\n",
    "            permissoes.append(False)\n",
    "    for j in permissoes:\n",
    "        if j:\n",
    "            print(\"Você é maior de idade!\")\n",
    "        else:\n",
    "            print(\"Você é menor de idade!\")\n",
    "\n",
    "\n",
    "verifica_idade_boleano(permissoes, idades)"
   ]
  }
 ],
 "metadata": {
  "kernelspec": {
   "display_name": "Python 3.10.6 64-bit (microsoft store)",
   "language": "python",
   "name": "python3"
  },
  "language_info": {
   "codemirror_mode": {
    "name": "ipython",
    "version": 3
   },
   "file_extension": ".py",
   "mimetype": "text/x-python",
   "name": "python",
   "nbconvert_exporter": "python",
   "pygments_lexer": "ipython3",
   "version": "3.10.6"
  },
  "orig_nbformat": 4,
  "vscode": {
   "interpreter": {
    "hash": "2ec1ab3a7492c682861eb248a34c624e35e5f607dace7fc7e85d983a5f829e20"
   }
  }
 },
 "nbformat": 4,
 "nbformat_minor": 2
}
